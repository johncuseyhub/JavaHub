{
 "cells": [
  {
   "cell_type": "markdown",
   "metadata": {},
   "source": [
    "# Introduction"
   ]
  },
  {
   "cell_type": "markdown",
   "metadata": {},
   "source": [
    "In Java, an enum (short for enumeration) is a type that has a fixed set of constant values."
   ]
  },
  {
   "cell_type": "markdown",
   "metadata": {},
   "source": [
    "# Create Enum"
   ]
  },
  {
   "cell_type": "code",
   "execution_count": 44,
   "metadata": {},
   "outputs": [],
   "source": [
    "public enum CarSize{\n",
    "  SMALL(1), MEDIUM(2), LARGE(3), EXTRALARGE(4);\n",
    "    \n",
    "  private int size;\n",
    "\n",
    "  CarSize(int size) {\n",
    "    this.size = size;\n",
    "  }\n",
    "\n",
    "  public int getSize() {\n",
    "    return this.size;\n",
    "  }\n",
    "    \n",
    "  public void setSize(int size) {\n",
    "    this.size = size;\n",
    "  } \n",
    "}"
   ]
  },
  {
   "cell_type": "markdown",
   "metadata": {},
   "source": [
    "# Setting Variable"
   ]
  },
  {
   "cell_type": "code",
   "execution_count": 45,
   "metadata": {},
   "outputs": [
    {
     "name": "stdout",
     "output_type": "stream",
     "text": [
      "SMALL\r\n"
     ]
    }
   ],
   "source": [
    "CarSize  pizzaSize = CarSize.SMALL;\n",
    "\n",
    "System.out.println(pizzaSize);"
   ]
  },
  {
   "cell_type": "code",
   "execution_count": 46,
   "metadata": {},
   "outputs": [
    {
     "name": "stdout",
     "output_type": "stream",
     "text": [
      "0\r\n"
     ]
    }
   ],
   "source": [
    "CarSize.SMALL.setSize(0);\n",
    "System.out.println(CarSize.SMALL.getSize());"
   ]
  },
  {
   "cell_type": "markdown",
   "metadata": {},
   "source": [
    "# Switch Statement"
   ]
  },
  {
   "cell_type": "code",
   "execution_count": 47,
   "metadata": {},
   "outputs": [
    {
     "name": "stdout",
     "output_type": "stream",
     "text": [
      "I ordered a small size pizza.\r\n"
     ]
    }
   ],
   "source": [
    "switch(pizzaSize) {\n",
    "     case SMALL:\n",
    "       System.out.println(\"I ordered a small size pizza.\");\n",
    "       break;\n",
    "     case MEDIUM:\n",
    "       System.out.println(\"I ordered a medium size pizza.\");\n",
    "       break;\n",
    "     default:\n",
    "       System.out.println(\"I don't know which one to order.\");\n",
    "       break;\n",
    "}"
   ]
  },
  {
   "cell_type": "markdown",
   "metadata": {},
   "source": [
    "# Methods of Java Enum Class"
   ]
  },
  {
   "cell_type": "markdown",
   "metadata": {},
   "source": [
    "### ordinal() "
   ]
  },
  {
   "cell_type": "markdown",
   "metadata": {},
   "source": [
    "The ordinal() method returns the position of an enum constant"
   ]
  },
  {
   "cell_type": "code",
   "execution_count": 48,
   "metadata": {},
   "outputs": [
    {
     "data": {
      "text/plain": [
       "1"
      ]
     },
     "execution_count": 48,
     "metadata": {},
     "output_type": "execute_result"
    }
   ],
   "source": [
    "CarSize.MEDIUM.ordinal();"
   ]
  },
  {
   "cell_type": "markdown",
   "metadata": {},
   "source": [
    "### compareTo()"
   ]
  },
  {
   "cell_type": "markdown",
   "metadata": {},
   "source": [
    "The compareTo() method compares the enum constants based on their ordinal value."
   ]
  },
  {
   "cell_type": "code",
   "execution_count": 49,
   "metadata": {},
   "outputs": [
    {
     "name": "stdout",
     "output_type": "stream",
     "text": [
      "-1\r\n"
     ]
    }
   ],
   "source": [
    "System.out.println( CarSize.SMALL.compareTo(CarSize.MEDIUM) );"
   ]
  },
  {
   "cell_type": "markdown",
   "metadata": {},
   "source": [
    "###  toString()"
   ]
  },
  {
   "cell_type": "markdown",
   "metadata": {},
   "source": [
    "The toString() method returns the string representation of the enum constants."
   ]
  },
  {
   "cell_type": "code",
   "execution_count": 50,
   "metadata": {},
   "outputs": [
    {
     "name": "stdout",
     "output_type": "stream",
     "text": [
      "SMALL\r\n"
     ]
    }
   ],
   "source": [
    "System.out.println(  CarSize.SMALL.toString() );"
   ]
  },
  {
   "cell_type": "markdown",
   "metadata": {},
   "source": [
    "### name()"
   ]
  },
  {
   "cell_type": "markdown",
   "metadata": {},
   "source": [
    "The name() method returns the defined name of an enum constant in string form. The returned value from the name() method is final. "
   ]
  },
  {
   "cell_type": "code",
   "execution_count": 51,
   "metadata": {},
   "outputs": [
    {
     "name": "stdout",
     "output_type": "stream",
     "text": [
      "SMALL\r\n"
     ]
    }
   ],
   "source": [
    "System.out.println(  CarSize.SMALL.name() );"
   ]
  },
  {
   "cell_type": "markdown",
   "metadata": {},
   "source": [
    "### valueOf()"
   ]
  },
  {
   "cell_type": "markdown",
   "metadata": {},
   "source": [
    "The valueOf() method takes a string and returns an enum constant having the same string name."
   ]
  },
  {
   "cell_type": "code",
   "execution_count": 52,
   "metadata": {},
   "outputs": [
    {
     "name": "stdout",
     "output_type": "stream",
     "text": [
      "SMALL\r\n"
     ]
    }
   ],
   "source": [
    "System.out.println(  CarSize.valueOf(\"SMALL\") );"
   ]
  },
  {
   "cell_type": "markdown",
   "metadata": {},
   "source": [
    "### values() "
   ]
  },
  {
   "cell_type": "markdown",
   "metadata": {},
   "source": [
    "The values() method returns an array of enum type containing all the enum constants."
   ]
  },
  {
   "cell_type": "code",
   "execution_count": 53,
   "metadata": {},
   "outputs": [],
   "source": [
    "CarSize[] enumArray = CarSize.values();"
   ]
  },
  {
   "cell_type": "code",
   "execution_count": 54,
   "metadata": {},
   "outputs": [
    {
     "name": "stdout",
     "output_type": "stream",
     "text": [
      "SMALL at index 0\n",
      "MEDIUM at index 1\n",
      "LARGE at index 2\n",
      "EXTRALARGE at index 3\n"
     ]
    }
   ],
   "source": [
    "  for (CarSize item : enumArray) {\n",
    "    System.out.println( item + \" at index \"+ item.ordinal() );\n",
    "}"
   ]
  },
  {
   "cell_type": "markdown",
   "metadata": {},
   "source": [
    "# Comparing Enum Types Using “==” Operator"
   ]
  },
  {
   "cell_type": "markdown",
   "metadata": {},
   "source": [
    "Since enum types ensure that only one instance of the constants exist in the JVM, we can safely use the “==” operator to compare two variables, like we did in the above example. Furthermore, the “==” operator provides compile-time and run-time safety."
   ]
  },
  {
   "cell_type": "code",
   "execution_count": 55,
   "metadata": {},
   "outputs": [
    {
     "name": "stdout",
     "output_type": "stream",
     "text": [
      "true\r\n"
     ]
    }
   ],
   "source": [
    "System.out.println(  CarSize.SMALL == CarSize.SMALL );"
   ]
  },
  {
   "cell_type": "code",
   "execution_count": 56,
   "metadata": {},
   "outputs": [
    {
     "name": "stdout",
     "output_type": "stream",
     "text": [
      "true\r\n"
     ]
    }
   ],
   "source": [
    "System.out.println(  CarSize.SMALL.equals(CarSize.SMALL) );"
   ]
  },
  {
   "cell_type": "markdown",
   "metadata": {},
   "source": [
    "# Enum Methods"
   ]
  },
  {
   "cell_type": "markdown",
   "metadata": {},
   "source": [
    "You can add methods to a Java enum too."
   ]
  },
  {
   "cell_type": "code",
   "execution_count": 57,
   "metadata": {},
   "outputs": [],
   "source": [
    "public enum Level {\n",
    "    HIGH  (3),  //calls constructor with value 3\n",
    "    MEDIUM(2),  //calls constructor with value 2\n",
    "    LOW   (1)   //calls constructor with value 1\n",
    "    ; // semicolon needed when fields / methods follow\n",
    "\n",
    "\n",
    "    private final int levelCode;\n",
    "\n",
    "    Level(int levelCode) {\n",
    "        this.levelCode = levelCode;\n",
    "    }\n",
    "    \n",
    "    public int getLevelCode() {\n",
    "        return this.levelCode;\n",
    "    }\n",
    "    \n",
    "}"
   ]
  },
  {
   "cell_type": "markdown",
   "metadata": {},
   "source": [
    "You call a Java enum method via a reference to one of the constant values."
   ]
  },
  {
   "cell_type": "code",
   "execution_count": 58,
   "metadata": {},
   "outputs": [
    {
     "name": "stdout",
     "output_type": "stream",
     "text": [
      "3\r\n"
     ]
    }
   ],
   "source": [
    "Level level = Level.HIGH;\n",
    "\n",
    "System.out.println(level.getLevelCode());"
   ]
  },
  {
   "cell_type": "code",
   "execution_count": 59,
   "metadata": {},
   "outputs": [
    {
     "name": "stdout",
     "output_type": "stream",
     "text": [
      "HIGH\n",
      "MEDIUM\n",
      "LOW\n"
     ]
    }
   ],
   "source": [
    "for (Level level : Level.values()) {\n",
    "    System.out.println(level);\n",
    "}"
   ]
  },
  {
   "cell_type": "markdown",
   "metadata": {},
   "source": [
    "# Enum Abstract Methods"
   ]
  },
  {
   "cell_type": "markdown",
   "metadata": {},
   "source": [
    "It is possible for a Java enum class to have abstract methods too. If an enum class has an abstract method, then each instance of the enum class must implement it. "
   ]
  },
  {
   "cell_type": "code",
   "execution_count": 60,
   "metadata": {},
   "outputs": [],
   "source": [
    "public enum AlertLevel {\n",
    "    HIGH{\n",
    "        @Override\n",
    "        public String asLowerCase() {\n",
    "            return HIGH.toString().toLowerCase();\n",
    "        }\n",
    "    },\n",
    "    MEDIUM{\n",
    "        @Override\n",
    "        public String asLowerCase() {\n",
    "            return MEDIUM.toString().toLowerCase();\n",
    "        }\n",
    "    },\n",
    "    LOW{\n",
    "        @Override\n",
    "        public String asLowerCase() {\n",
    "            return LOW.toString().toLowerCase();\n",
    "        }\n",
    "    };\n",
    "\n",
    "    public abstract String asLowerCase();\n",
    "}"
   ]
  },
  {
   "cell_type": "code",
   "execution_count": 61,
   "metadata": {},
   "outputs": [
    {
     "name": "stdout",
     "output_type": "stream",
     "text": [
      "high\r\n"
     ]
    }
   ],
   "source": [
    "AlertLevel alertLevel = AlertLevel.HIGH;\n",
    "\n",
    "System.out.println(alertLevel.asLowerCase());"
   ]
  },
  {
   "cell_type": "markdown",
   "metadata": {},
   "source": [
    "# Enum Implementing Interface"
   ]
  },
  {
   "cell_type": "markdown",
   "metadata": {},
   "source": [
    "Defining an abstract method"
   ]
  },
  {
   "cell_type": "code",
   "execution_count": 62,
   "metadata": {},
   "outputs": [],
   "source": [
    "interface week {\n",
    "  \n",
    "    public int day();\n",
    "}"
   ]
  },
  {
   "cell_type": "markdown",
   "metadata": {},
   "source": [
    "Initializing an enum which implements the above interface. Initializing the possible days"
   ]
  },
  {
   "cell_type": "code",
   "execution_count": 63,
   "metadata": {},
   "outputs": [],
   "source": [
    "enum Day implements week {\n",
    "\n",
    "    Monday,\n",
    "    Tuesday,\n",
    "    Wednesday,\n",
    "    Thursday,\n",
    "    Friday,\n",
    "    Saturday,\n",
    "    Sunday;\n",
    "  \n",
    "    public int day()\n",
    "    {\n",
    "        return ordinal() + 1;\n",
    "    }\n",
    "}"
   ]
  },
  {
   "cell_type": "code",
   "execution_count": 64,
   "metadata": {},
   "outputs": [
    {
     "name": "stdout",
     "output_type": "stream",
     "text": [
      "It is day number 3 of a week.\r\n"
     ]
    }
   ],
   "source": [
    "System.out.println(\"It is day number \" + Day.Wednesday.day() + \" of a week.\");"
   ]
  },
  {
   "cell_type": "markdown",
   "metadata": {},
   "source": [
    "# EnumSet"
   ]
  },
  {
   "cell_type": "markdown",
   "metadata": {},
   "source": [
    "Java contains a special Java Set implementation called EnumSet which can hold enums more efficiently than the standard Java Set implementations. The rest of the operations work in the exact same way as any other Set implementation and there is no difference in how to use them."
   ]
  },
  {
   "cell_type": "code",
   "execution_count": 65,
   "metadata": {},
   "outputs": [],
   "source": [
    "public enum Color {\n",
    "    RED, YELLOW, GREEN, BLUE, BLACK, WHITE\n",
    "}"
   ]
  },
  {
   "cell_type": "code",
   "execution_count": 66,
   "metadata": {},
   "outputs": [
    {
     "data": {
      "text/plain": [
       "true"
      ]
     },
     "execution_count": 66,
     "metadata": {},
     "output_type": "execute_result"
    }
   ],
   "source": [
    "EnumSet<Color> set = EnumSet.noneOf(Color.class);\n",
    "set.add(Color.RED);\n",
    "set.add(Color.YELLOW)"
   ]
  },
  {
   "cell_type": "markdown",
   "metadata": {},
   "source": [
    "Check if the collection contains a specific element:"
   ]
  },
  {
   "cell_type": "code",
   "execution_count": 67,
   "metadata": {},
   "outputs": [
    {
     "data": {
      "text/plain": [
       "true"
      ]
     },
     "execution_count": 67,
     "metadata": {},
     "output_type": "execute_result"
    }
   ],
   "source": [
    "set.contains(Color.RED);"
   ]
  },
  {
   "cell_type": "markdown",
   "metadata": {},
   "source": [
    "Iterate over the elements:"
   ]
  },
  {
   "cell_type": "code",
   "execution_count": 68,
   "metadata": {},
   "outputs": [
    {
     "name": "stdout",
     "output_type": "stream",
     "text": [
      "RED\n",
      "YELLOW\n"
     ]
    }
   ],
   "source": [
    "set.forEach(System.out::println);"
   ]
  },
  {
   "cell_type": "markdown",
   "metadata": {},
   "source": [
    "# EnumMap"
   ]
  },
  {
   "cell_type": "code",
   "execution_count": 69,
   "metadata": {},
   "outputs": [],
   "source": [
    "EnumMap<Level, String> enumMap = new EnumMap<Level, String>(Level.class);"
   ]
  },
  {
   "cell_type": "code",
   "execution_count": 70,
   "metadata": {},
   "outputs": [],
   "source": [
    "enumMap.put(Level.HIGH  , \"High level\");\n",
    "enumMap.put(Level.MEDIUM, \"Medium level\");\n",
    "enumMap.put(Level.LOW   , \"Low level\");"
   ]
  },
  {
   "cell_type": "code",
   "execution_count": 71,
   "metadata": {},
   "outputs": [
    {
     "name": "stdout",
     "output_type": "stream",
     "text": [
      "High level\r\n"
     ]
    }
   ],
   "source": [
    "System.out.println( enumMap.get(Level.HIGH) );"
   ]
  }
 ],
 "metadata": {
  "kernelspec": {
   "display_name": "Java",
   "language": "java",
   "name": "java"
  },
  "language_info": {
   "codemirror_mode": "java",
   "file_extension": ".jshell",
   "mimetype": "text/x-java-source",
   "name": "Java",
   "pygments_lexer": "java",
   "version": "18.0.1+10-24"
  }
 },
 "nbformat": 4,
 "nbformat_minor": 5
}
