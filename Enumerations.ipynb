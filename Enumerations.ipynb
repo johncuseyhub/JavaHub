{
 "cells": [
  {
   "cell_type": "markdown",
   "id": "dbfd1037",
   "metadata": {},
   "source": [
    "# Introduction"
   ]
  },
  {
   "cell_type": "markdown",
   "id": "91ca3950",
   "metadata": {},
   "source": [
    "In Java, an enum (short for enumeration) is a type that has a fixed set of constant values."
   ]
  },
  {
   "cell_type": "markdown",
   "id": "cfa6372f",
   "metadata": {},
   "source": [
    "# Create Enum"
   ]
  },
  {
   "cell_type": "code",
   "execution_count": 9,
   "id": "2cf2bf3e",
   "metadata": {},
   "outputs": [],
   "source": [
    "enum CarSize{\n",
    "  SMALL(1), MEDIUM(2), LARGE(3), EXTRALARGE(4);\n",
    "}"
   ]
  },
  {
   "cell_type": "markdown",
   "id": "261ea6a9",
   "metadata": {},
   "source": [
    "# Setting Variable"
   ]
  },
  {
   "cell_type": "code",
   "execution_count": 7,
   "id": "af651fd5",
   "metadata": {},
   "outputs": [
    {
     "name": "stdout",
     "output_type": "stream",
     "text": [
      "SMALL\n"
     ]
    }
   ],
   "source": [
    "CarSize  pizzaSize = CarSize.SMALL;\n",
    "\n",
    "System.out.println(pizzaSize);"
   ]
  },
  {
   "cell_type": "markdown",
   "id": "336e3587",
   "metadata": {},
   "source": [
    "# Switch Statement"
   ]
  },
  {
   "cell_type": "code",
   "execution_count": 6,
   "id": "5972e387",
   "metadata": {},
   "outputs": [
    {
     "ename": "CompilationException",
     "evalue": "",
     "output_type": "error",
     "traceback": [
      "\u001b[1m\u001b[30m|   \u001b[1m\u001b[30m   \u001b[0m\u001b[1m\u001b[30m\u001b[41m\u001b[0m\u001b[1m\u001b[30mswitch(pizzaSize) {\u001b[0m",
      "\u001b[1m\u001b[31mswitch expressions are a preview feature and are disabled by default.\u001b[0m",
      "\u001b[1m\u001b[31m  (use --enable-preview to enable switch expressions)\u001b[0m",
      ""
     ]
    }
   ],
   "source": [
    "switch(pizzaSize) {\n",
    "     case SMALL:\n",
    "       System.out.println(\"I ordered a small size pizza.\");\n",
    "       break;\n",
    "     case MEDIUM:\n",
    "       System.out.println(\"I ordered a medium size pizza.\");\n",
    "       break;\n",
    "     default:\n",
    "       System.out.println(\"I don't know which one to order.\");\n",
    "       break;\n",
    "}"
   ]
  },
  {
   "cell_type": "markdown",
   "id": "8b9db81a",
   "metadata": {},
   "source": [
    "# Methods of Java Enum Class"
   ]
  },
  {
   "cell_type": "markdown",
   "id": "98dbc603",
   "metadata": {},
   "source": [
    "### ordinal() "
   ]
  },
  {
   "cell_type": "markdown",
   "id": "e70a3dd5",
   "metadata": {},
   "source": [
    "The ordinal() method returns the position of an enum constant"
   ]
  },
  {
   "cell_type": "code",
   "execution_count": 14,
   "id": "a8b90c0c",
   "metadata": {},
   "outputs": [
    {
     "data": {
      "text/plain": [
       "1"
      ]
     },
     "execution_count": 14,
     "metadata": {},
     "output_type": "execute_result"
    }
   ],
   "source": [
    "CarSize.MEDIUM.ordinal();"
   ]
  },
  {
   "cell_type": "markdown",
   "id": "d92bbe75",
   "metadata": {},
   "source": [
    "### compareTo()"
   ]
  },
  {
   "cell_type": "markdown",
   "id": "a343ed14",
   "metadata": {},
   "source": [
    "The compareTo() method compares the enum constants based on their ordinal value."
   ]
  },
  {
   "cell_type": "code",
   "execution_count": 12,
   "id": "79f4df39",
   "metadata": {},
   "outputs": [
    {
     "name": "stdout",
     "output_type": "stream",
     "text": [
      "-1\n"
     ]
    }
   ],
   "source": [
    "System.out.println( CarSize.SMALL.compareTo(CarSize.MEDIUM) );"
   ]
  },
  {
   "cell_type": "markdown",
   "id": "6581562f",
   "metadata": {},
   "source": [
    "###  toString()"
   ]
  },
  {
   "cell_type": "markdown",
   "id": "37a6370d",
   "metadata": {},
   "source": [
    "The toString() method returns the string representation of the enum constants."
   ]
  },
  {
   "cell_type": "code",
   "execution_count": 16,
   "id": "6a25a113",
   "metadata": {},
   "outputs": [
    {
     "name": "stdout",
     "output_type": "stream",
     "text": [
      "SMALL\n"
     ]
    }
   ],
   "source": [
    "System.out.println(  CarSize.SMALL.toString() );"
   ]
  },
  {
   "cell_type": "markdown",
   "id": "c4c04121",
   "metadata": {},
   "source": [
    "### name()"
   ]
  },
  {
   "cell_type": "markdown",
   "id": "426d02d5",
   "metadata": {},
   "source": [
    "The name() method returns the defined name of an enum constant in string form. The returned value from the name() method is final. "
   ]
  },
  {
   "cell_type": "code",
   "execution_count": 17,
   "id": "a21580f1",
   "metadata": {},
   "outputs": [
    {
     "name": "stdout",
     "output_type": "stream",
     "text": [
      "SMALL\n"
     ]
    }
   ],
   "source": [
    "System.out.println(  CarSize.SMALL.name() );"
   ]
  },
  {
   "cell_type": "markdown",
   "id": "01cbbcb4",
   "metadata": {},
   "source": [
    "### valueOf()"
   ]
  },
  {
   "cell_type": "markdown",
   "id": "0c3fc915",
   "metadata": {},
   "source": [
    "The valueOf() method takes a string and returns an enum constant having the same string name."
   ]
  },
  {
   "cell_type": "code",
   "execution_count": 19,
   "id": "4b16f9a9",
   "metadata": {},
   "outputs": [
    {
     "name": "stdout",
     "output_type": "stream",
     "text": [
      "SMALL\n"
     ]
    }
   ],
   "source": [
    "System.out.println(  CarSize.valueOf(\"SMALL\") );"
   ]
  },
  {
   "cell_type": "markdown",
   "id": "d03a2190",
   "metadata": {},
   "source": [
    "### values() "
   ]
  },
  {
   "cell_type": "markdown",
   "id": "9da53f33",
   "metadata": {},
   "source": [
    "The values() method returns an array of enum type containing all the enum constants."
   ]
  },
  {
   "cell_type": "code",
   "execution_count": 21,
   "id": "c6fc5f41",
   "metadata": {},
   "outputs": [],
   "source": [
    "CarSize[] enumArray = CarSize.values();"
   ]
  },
  {
   "cell_type": "code",
   "execution_count": 23,
   "id": "889d593e",
   "metadata": {},
   "outputs": [
    {
     "name": "stdout",
     "output_type": "stream",
     "text": [
      "SMALL at index 0\n",
      "MEDIUM at index 1\n",
      "LARGE at index 2\n",
      "EXTRALARGE at index 3\n"
     ]
    }
   ],
   "source": [
    "  for (CarSize item : enumArray) {\n",
    "    System.out.println( item + \" at index \"+ item.ordinal() );\n",
    "}"
   ]
  },
  {
   "cell_type": "markdown",
   "id": "ca4d1f33",
   "metadata": {},
   "source": [
    "# Comparing Enum Types Using “==” Operator"
   ]
  },
  {
   "cell_type": "markdown",
   "id": "7332dfdd",
   "metadata": {},
   "source": [
    "Since enum types ensure that only one instance of the constants exist in the JVM, we can safely use the “==” operator to compare two variables, like we did in the above example. Furthermore, the “==” operator provides compile-time and run-time safety."
   ]
  },
  {
   "cell_type": "code",
   "execution_count": 25,
   "id": "0fc542e1",
   "metadata": {},
   "outputs": [
    {
     "name": "stdout",
     "output_type": "stream",
     "text": [
      "true\n"
     ]
    }
   ],
   "source": [
    "System.out.println(  CarSize.SMALL == CarSize.SMALL );"
   ]
  },
  {
   "cell_type": "code",
   "execution_count": 26,
   "id": "cd8b35b3",
   "metadata": {},
   "outputs": [
    {
     "name": "stdout",
     "output_type": "stream",
     "text": [
      "true\n"
     ]
    }
   ],
   "source": [
    "System.out.println(  CarSize.SMALL.equals(CarSize.SMALL) );"
   ]
  },
  {
   "cell_type": "markdown",
   "id": "4fca440e",
   "metadata": {},
   "source": [
    "# Enum Methods"
   ]
  },
  {
   "cell_type": "markdown",
   "id": "35538a6f",
   "metadata": {},
   "source": [
    "You can add methods to a Java enum too."
   ]
  },
  {
   "cell_type": "code",
   "execution_count": 29,
   "id": "dbf9ee44",
   "metadata": {},
   "outputs": [],
   "source": [
    "public enum Level {\n",
    "    HIGH  (3),  //calls constructor with value 3\n",
    "    MEDIUM(2),  //calls constructor with value 2\n",
    "    LOW   (1)   //calls constructor with value 1\n",
    "    ; // semicolon needed when fields / methods follow\n",
    "\n",
    "\n",
    "    private final int levelCode;\n",
    "\n",
    "    Level(int levelCode) {\n",
    "        this.levelCode = levelCode;\n",
    "    }\n",
    "    \n",
    "    public int getLevelCode() {\n",
    "        return this.levelCode;\n",
    "    }\n",
    "    \n",
    "}"
   ]
  },
  {
   "cell_type": "markdown",
   "id": "108d4e30",
   "metadata": {},
   "source": [
    "You call a Java enum method via a reference to one of the constant values."
   ]
  },
  {
   "cell_type": "code",
   "execution_count": 30,
   "id": "2e9bc62f",
   "metadata": {},
   "outputs": [
    {
     "name": "stdout",
     "output_type": "stream",
     "text": [
      "3\n"
     ]
    }
   ],
   "source": [
    "Level level = Level.HIGH;\n",
    "\n",
    "System.out.println(level.getLevelCode());"
   ]
  },
  {
   "cell_type": "code",
   "execution_count": 49,
   "id": "133498d7",
   "metadata": {},
   "outputs": [
    {
     "name": "stdout",
     "output_type": "stream",
     "text": [
      "HIGH\n",
      "MEDIUM\n",
      "LOW\n"
     ]
    }
   ],
   "source": [
    "for (Level level : Level.values()) {\n",
    "    System.out.println(level);\n",
    "}"
   ]
  },
  {
   "cell_type": "markdown",
   "id": "47d07627",
   "metadata": {},
   "source": [
    "# Enum Abstract Methods"
   ]
  },
  {
   "cell_type": "markdown",
   "id": "ffad158f",
   "metadata": {},
   "source": [
    "It is possible for a Java enum class to have abstract methods too. If an enum class has an abstract method, then each instance of the enum class must implement it. "
   ]
  },
  {
   "cell_type": "code",
   "execution_count": 31,
   "id": "abbeec37",
   "metadata": {},
   "outputs": [],
   "source": [
    "public enum AlertLevel {\n",
    "    HIGH{\n",
    "        @Override\n",
    "        public String asLowerCase() {\n",
    "            return HIGH.toString().toLowerCase();\n",
    "        }\n",
    "    },\n",
    "    MEDIUM{\n",
    "        @Override\n",
    "        public String asLowerCase() {\n",
    "            return MEDIUM.toString().toLowerCase();\n",
    "        }\n",
    "    },\n",
    "    LOW{\n",
    "        @Override\n",
    "        public String asLowerCase() {\n",
    "            return LOW.toString().toLowerCase();\n",
    "        }\n",
    "    };\n",
    "\n",
    "    public abstract String asLowerCase();\n",
    "}"
   ]
  },
  {
   "cell_type": "code",
   "execution_count": 34,
   "id": "c224a2df",
   "metadata": {},
   "outputs": [
    {
     "name": "stdout",
     "output_type": "stream",
     "text": [
      "high\n"
     ]
    }
   ],
   "source": [
    "AlertLevel alertLevel = AlertLevel.HIGH;\n",
    "\n",
    "System.out.println(alertLevel.asLowerCase());"
   ]
  },
  {
   "cell_type": "markdown",
   "id": "5f6c353b",
   "metadata": {},
   "source": [
    "# Enum Implementing Interface"
   ]
  },
  {
   "cell_type": "markdown",
   "id": "ddaf2b57",
   "metadata": {},
   "source": [
    "Defining an abstract method"
   ]
  },
  {
   "cell_type": "code",
   "execution_count": 36,
   "id": "8654ac5a",
   "metadata": {},
   "outputs": [],
   "source": [
    "interface week {\n",
    "  \n",
    "    public int day();\n",
    "}"
   ]
  },
  {
   "cell_type": "markdown",
   "id": "5d7bbe8b",
   "metadata": {},
   "source": [
    "Initializing an enum which implements the above interface. Initializing the possible days"
   ]
  },
  {
   "cell_type": "code",
   "execution_count": 37,
   "id": "10d30edc",
   "metadata": {},
   "outputs": [],
   "source": [
    "enum Day implements week {\n",
    "\n",
    "    Monday,\n",
    "    Tuesday,\n",
    "    Wednesday,\n",
    "    Thursday,\n",
    "    Friday,\n",
    "    Saturday,\n",
    "    Sunday;\n",
    "  \n",
    "    public int day()\n",
    "    {\n",
    "        return ordinal() + 1;\n",
    "    }\n",
    "}"
   ]
  },
  {
   "cell_type": "code",
   "execution_count": 38,
   "id": "33611eac",
   "metadata": {},
   "outputs": [
    {
     "name": "stdout",
     "output_type": "stream",
     "text": [
      "It is day number 3 of a week.\n"
     ]
    }
   ],
   "source": [
    "System.out.println(\"It is day number \" + Day.Wednesday.day() + \" of a week.\");"
   ]
  },
  {
   "cell_type": "markdown",
   "id": "227c9fe9",
   "metadata": {},
   "source": [
    "# EnumSet"
   ]
  },
  {
   "cell_type": "markdown",
   "id": "af864be7",
   "metadata": {},
   "source": [
    "Java contains a special Java Set implementation called EnumSet which can hold enums more efficiently than the standard Java Set implementations. The rest of the operations work in the exact same way as any other Set implementation and there is no difference in how to use them."
   ]
  },
  {
   "cell_type": "code",
   "execution_count": 40,
   "id": "43021b6a",
   "metadata": {},
   "outputs": [],
   "source": [
    "public enum Color {\n",
    "    RED, YELLOW, GREEN, BLUE, BLACK, WHITE\n",
    "}"
   ]
  },
  {
   "cell_type": "code",
   "execution_count": 41,
   "id": "4320129b",
   "metadata": {},
   "outputs": [
    {
     "data": {
      "text/plain": [
       "true"
      ]
     },
     "execution_count": 41,
     "metadata": {},
     "output_type": "execute_result"
    }
   ],
   "source": [
    "EnumSet<Color> set = EnumSet.noneOf(Color.class);\n",
    "set.add(Color.RED);\n",
    "set.add(Color.YELLOW)"
   ]
  },
  {
   "cell_type": "markdown",
   "id": "6b54b137",
   "metadata": {},
   "source": [
    "Check if the collection contains a specific element:"
   ]
  },
  {
   "cell_type": "code",
   "execution_count": 42,
   "id": "6609a5c0",
   "metadata": {},
   "outputs": [
    {
     "data": {
      "text/plain": [
       "true"
      ]
     },
     "execution_count": 42,
     "metadata": {},
     "output_type": "execute_result"
    }
   ],
   "source": [
    "set.contains(Color.RED);"
   ]
  },
  {
   "cell_type": "markdown",
   "id": "b4a09b06",
   "metadata": {},
   "source": [
    "Iterate over the elements:"
   ]
  },
  {
   "cell_type": "code",
   "execution_count": 43,
   "id": "5a943b40",
   "metadata": {},
   "outputs": [
    {
     "name": "stdout",
     "output_type": "stream",
     "text": [
      "RED\n",
      "YELLOW\n"
     ]
    }
   ],
   "source": [
    "set.forEach(System.out::println);"
   ]
  },
  {
   "cell_type": "markdown",
   "id": "0b668f9c",
   "metadata": {},
   "source": [
    "# EnumMap"
   ]
  },
  {
   "cell_type": "code",
   "execution_count": 46,
   "id": "15baf60b",
   "metadata": {},
   "outputs": [],
   "source": [
    "EnumMap<Level, String> enumMap = new EnumMap<Level, String>(Level.class);"
   ]
  },
  {
   "cell_type": "code",
   "execution_count": 47,
   "id": "75bd9fb7",
   "metadata": {},
   "outputs": [],
   "source": [
    "enumMap.put(Level.HIGH  , \"High level\");\n",
    "enumMap.put(Level.MEDIUM, \"Medium level\");\n",
    "enumMap.put(Level.LOW   , \"Low level\");"
   ]
  },
  {
   "cell_type": "code",
   "execution_count": 48,
   "id": "569c1ea7",
   "metadata": {},
   "outputs": [
    {
     "name": "stdout",
     "output_type": "stream",
     "text": [
      "High level\n"
     ]
    }
   ],
   "source": [
    "System.out.println( enumMap.get(Level.HIGH) );"
   ]
  },
  {
   "cell_type": "code",
   "execution_count": null,
   "id": "2fbfe3bb",
   "metadata": {},
   "outputs": [],
   "source": []
  }
 ],
 "metadata": {
  "kernelspec": {
   "display_name": "Java",
   "language": "java",
   "name": "java"
  },
  "language_info": {
   "codemirror_mode": "java",
   "file_extension": ".jshell",
   "mimetype": "text/x-java-source",
   "name": "Java",
   "pygments_lexer": "java",
   "version": "12.0.2+10"
  }
 },
 "nbformat": 4,
 "nbformat_minor": 5
}
