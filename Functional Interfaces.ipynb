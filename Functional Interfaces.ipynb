{
 "cells": [
  {
   "cell_type": "markdown",
   "id": "46074645",
   "metadata": {},
   "source": [
    "<p style=\"color:green; font-size:40px;\">Functional Interfaces</p>"
   ]
  },
  {
   "cell_type": "markdown",
   "id": "859f05f8",
   "metadata": {},
   "source": [
    "# Function Interface"
   ]
  },
  {
   "cell_type": "markdown",
   "id": "acb7c3fb",
   "metadata": {},
   "source": [
    "The term Java functional interface was introduced in Java 8. A functional interface in Java is an interface that contains only a single abstract (unimplemented) method. A functional interface can contain default and static methods which do have an implementation, in addition to the single unimplemented method."
   ]
  },
  {
   "cell_type": "code",
   "execution_count": 11,
   "id": "896ef3a9",
   "metadata": {},
   "outputs": [],
   "source": [
    "@FunctionalInterface\n",
    "public interface Geeting {\n",
    "     public void message();\n",
    "    \n",
    "    public default void sayHello(String name){\n",
    "        System.out.println(\"Hello \"+ name);\n",
    "    }\n",
    "    \n",
    "    public static void sayHi(String firstName, String lastName){\n",
    "         System.out.println(\"Hi \"+ firstName + \" \"+ lastName);\n",
    "    }\n",
    "}"
   ]
  },
  {
   "cell_type": "code",
   "execution_count": 12,
   "id": "359c4633",
   "metadata": {},
   "outputs": [],
   "source": [
    "Geeting geeting = () -> System.out.print(\"Hello World\");"
   ]
  },
  {
   "cell_type": "code",
   "execution_count": 13,
   "id": "902a5e84",
   "metadata": {},
   "outputs": [
    {
     "name": "stdout",
     "output_type": "stream",
     "text": [
      "Hello World"
     ]
    }
   ],
   "source": [
    "geeting.message();"
   ]
  },
  {
   "cell_type": "code",
   "execution_count": 14,
   "id": "a39c12ff",
   "metadata": {},
   "outputs": [
    {
     "name": "stdout",
     "output_type": "stream",
     "text": [
      "Hello John\n"
     ]
    }
   ],
   "source": [
    "geeting.sayHello(\"John\");"
   ]
  },
  {
   "cell_type": "code",
   "execution_count": 15,
   "id": "b53a8320",
   "metadata": {},
   "outputs": [
    {
     "name": "stdout",
     "output_type": "stream",
     "text": [
      "Hi John Smith\n"
     ]
    }
   ],
   "source": [
    "Geeting.sayHi(\"John\", \"Smith\");"
   ]
  },
  {
   "cell_type": "markdown",
   "id": "ceaafb45",
   "metadata": {},
   "source": [
    "## Example Function Interface (Runnable)"
   ]
  },
  {
   "cell_type": "markdown",
   "id": "d7fc985c",
   "metadata": {},
   "source": [
    "The Runnable interface is a functional interface defined in java.lang package. This interface contains a single abstract method, run() with no arguments. When an object of a class implementing this interface used to create a thread, then run() method has invoked in a thread that executes separately."
   ]
  },
  {
   "cell_type": "markdown",
   "id": "89d28f30",
   "metadata": {},
   "source": [
    "<p style=\"color:blue; font-size:20px;\">Syntax</p>"
   ]
  },
  {
   "cell_type": "markdown",
   "id": "8e38da24",
   "metadata": {},
   "source": [
    "``` Java\n",
    "@FunctionalInterface\n",
    "public interface Runnable {\n",
    " void run();\n",
    "}\n",
    "```"
   ]
  },
  {
   "cell_type": "markdown",
   "id": "3dc50802",
   "metadata": {},
   "source": [
    "In the below example, we can implement a Runnable interface by using an <b>anonymous class</b> and <b>lambda expression</b>."
   ]
  },
  {
   "cell_type": "code",
   "execution_count": 13,
   "id": "accd2627",
   "metadata": {},
   "outputs": [],
   "source": [
    "public Runnable sayHello = new Runnable() {\n",
    "    \n",
    "    @Override\n",
    "    public void run() { // anonymous class\n",
    "            System.out.println(\"Hello World! \");\n",
    "         }\n",
    "};"
   ]
  },
  {
   "cell_type": "markdown",
   "id": "f9086a44",
   "metadata": {},
   "source": [
    "Running the runnable method"
   ]
  },
  {
   "cell_type": "code",
   "execution_count": 15,
   "id": "369cdcb2",
   "metadata": {},
   "outputs": [
    {
     "name": "stdout",
     "output_type": "stream",
     "text": [
      "Hello World! \r\n"
     ]
    }
   ],
   "source": [
    "sayHello.run();"
   ]
  },
  {
   "cell_type": "markdown",
   "id": "b56f39df",
   "metadata": {},
   "source": [
    "# Functional Interfaces Can Be Implemented by a Lambda Expression"
   ]
  },
  {
   "cell_type": "markdown",
   "id": "26cd95bd",
   "metadata": {},
   "source": [
    "A Java lambda expression implements a single method from a Java interface. In order to know what method the lambda expression implements, the interface can only contain a single unimplemented method. In other words, the interface must be a Java functional interface."
   ]
  },
  {
   "cell_type": "markdown",
   "id": "4cd6e3b7",
   "metadata": {},
   "source": [
    "# No Parameters"
   ]
  },
  {
   "cell_type": "code",
   "execution_count": 26,
   "id": "99e72100",
   "metadata": {},
   "outputs": [],
   "source": [
    "@FunctionalInterface  //It is optional  \n",
    "interface Drawable{  \n",
    "    public void draw();  \n",
    "}  "
   ]
  },
  {
   "cell_type": "code",
   "execution_count": 27,
   "id": "446d4666",
   "metadata": {},
   "outputs": [],
   "source": [
    "int width=10; "
   ]
  },
  {
   "cell_type": "code",
   "execution_count": 28,
   "id": "5d035ac7",
   "metadata": {},
   "outputs": [],
   "source": [
    " Drawable d2=()->{  System.out.println(\"Drawing \"+width); }; "
   ]
  },
  {
   "cell_type": "code",
   "execution_count": 29,
   "id": "caf723ae",
   "metadata": {},
   "outputs": [
    {
     "name": "stdout",
     "output_type": "stream",
     "text": [
      "Drawing 10\n"
     ]
    }
   ],
   "source": [
    " d2.draw(); "
   ]
  },
  {
   "cell_type": "markdown",
   "id": "f0ec1009",
   "metadata": {},
   "source": [
    "# Multiple parameters"
   ]
  },
  {
   "cell_type": "code",
   "execution_count": 31,
   "id": "218dd8b5",
   "metadata": {},
   "outputs": [],
   "source": [
    "interface Addable{  \n",
    "    int add(int a,int b);  \n",
    "}  "
   ]
  },
  {
   "cell_type": "code",
   "execution_count": 32,
   "id": "342f8dc7",
   "metadata": {},
   "outputs": [],
   "source": [
    " Addable ad1=(a,b)->(a+b); "
   ]
  },
  {
   "cell_type": "code",
   "execution_count": 33,
   "id": "74be479a",
   "metadata": {},
   "outputs": [
    {
     "name": "stdout",
     "output_type": "stream",
     "text": [
      "30\n"
     ]
    }
   ],
   "source": [
    "System.out.println(ad1.add(10,20));  "
   ]
  },
  {
   "cell_type": "markdown",
   "id": "5d4cca8e",
   "metadata": {},
   "source": [
    "<p style=\"color:green; font-size:40px;\">Built-in Functional Interfaces in Java</p>"
   ]
  },
  {
   "cell_type": "markdown",
   "id": "638f0a6f",
   "metadata": {},
   "source": [
    "Java contains a set of functional interfaces designed for commonly occuring use cases, so you don't have to create your own functional interfaces for every little use case. In the following sections I will be describing some of these built-in functional interfaces in Java."
   ]
  },
  {
   "cell_type": "markdown",
   "id": "95d8e4f0",
   "metadata": {},
   "source": [
    "# Function"
   ]
  },
  {
   "cell_type": "markdown",
   "id": "86abd8e0",
   "metadata": {},
   "source": [
    "The Java Function interface (java.util.function.Function) interface is one of the most central functional interfaces in Java. The Function interface represents a function (method) that takes a single parameter and returns a single value. Here is how the Function interface definition looks:"
   ]
  },
  {
   "cell_type": "markdown",
   "id": "fd816457",
   "metadata": {},
   "source": [
    "The Function interface actually contains a few extra methods in addition to the methods listed above, but since they all come with a default implementation, you do not have to implement these extra methods. The extra methods will be explained in later sections.\n",
    "\n",
    "The only method you have to implement to implement the Function interface is the apply() method. Here is a Function implementation example:"
   ]
  },
  {
   "cell_type": "code",
   "execution_count": null,
   "id": "87cb3996",
   "metadata": {},
   "outputs": [],
   "source": []
  },
  {
   "cell_type": "code",
   "execution_count": null,
   "id": "c415b8fd",
   "metadata": {},
   "outputs": [],
   "source": []
  }
 ],
 "metadata": {
  "kernelspec": {
   "display_name": "Java",
   "language": "java",
   "name": "java"
  },
  "language_info": {
   "codemirror_mode": "java",
   "file_extension": ".jshell",
   "mimetype": "text/x-java-source",
   "name": "Java",
   "pygments_lexer": "java",
   "version": "12.0.2+10"
  }
 },
 "nbformat": 4,
 "nbformat_minor": 5
}
