{
 "cells": [
  {
   "cell_type": "markdown",
   "id": "3af8f7e1",
   "metadata": {},
   "source": [
    "# Collection Iterator"
   ]
  },
  {
   "cell_type": "markdown",
   "id": "f8af64d3",
   "metadata": {},
   "source": [
    "An Iterator is an object that can be used to loop through collections, like ArrayList and HashSet. It is called an \"iterator\" because \"iterating\" is the technical term for looping. To use an Iterator, you must import it from the java. util package."
   ]
  },
  {
   "cell_type": "markdown",
   "id": "831ef8fc",
   "metadata": {},
   "source": [
    "# Iterator"
   ]
  },
  {
   "cell_type": "markdown",
   "id": "010da322",
   "metadata": {},
   "source": [
    "#### Popular the Array List Collection"
   ]
  },
  {
   "cell_type": "code",
   "execution_count": 45,
   "id": "6731c8ff",
   "metadata": {},
   "outputs": [
    {
     "data": {
      "text/plain": [
       "true"
      ]
     },
     "execution_count": 45,
     "metadata": {},
     "output_type": "execute_result"
    }
   ],
   "source": [
    "ArrayList<String> bandMembers =new ArrayList<String>();\n",
    "\n",
    "bandMembers.add(\"Kurt Cobain\"); \n",
    "bandMembers.add(\"Dave Grohl\");  \n",
    "bandMembers.add(\"Krist Novoselic\");  \n",
    "bandMembers.add(\"Pat Smear\");  "
   ]
  },
  {
   "cell_type": "markdown",
   "id": "ac07ad84",
   "metadata": {},
   "source": [
    "#### Getting the iterator"
   ]
  },
  {
   "cell_type": "markdown",
   "id": "514149f7",
   "metadata": {},
   "source": [
    "Each time you uses an iterator you have to populate it from the collection"
   ]
  },
  {
   "cell_type": "code",
   "execution_count": 46,
   "id": "6c508429",
   "metadata": {},
   "outputs": [],
   "source": [
    "Iterator<String> itr = bandMembers.iterator();  "
   ]
  },
  {
   "cell_type": "markdown",
   "id": "f0955697",
   "metadata": {},
   "source": [
    "####  Using the iterator to print out the band members"
   ]
  },
  {
   "cell_type": "code",
   "execution_count": 47,
   "id": "f8314fe2",
   "metadata": {},
   "outputs": [
    {
     "name": "stdout",
     "output_type": "stream",
     "text": [
      "Kurt Cobain\n",
      "Dave Grohl\n",
      "Krist Novoselic\n",
      "Pat Smear\n"
     ]
    }
   ],
   "source": [
    "while(itr.hasNext()){  \n",
    "     System.out.println(itr.next());  \n",
    " }"
   ]
  },
  {
   "cell_type": "markdown",
   "id": "21407715",
   "metadata": {},
   "source": [
    "# Removing Items from a Collection"
   ]
  },
  {
   "cell_type": "code",
   "execution_count": 48,
   "id": "9b0250cc",
   "metadata": {},
   "outputs": [],
   "source": [
    "Iterator<String> itr = bandMembers.iterator(); "
   ]
  },
  {
   "cell_type": "code",
   "execution_count": 49,
   "id": "7252259c",
   "metadata": {},
   "outputs": [
    {
     "name": "stdout",
     "output_type": "stream",
     "text": [
      "4\n"
     ]
    }
   ],
   "source": [
    "System.out.println(bandMembers.size() ) ;"
   ]
  },
  {
   "cell_type": "code",
   "execution_count": 50,
   "id": "732f6113",
   "metadata": {},
   "outputs": [
    {
     "name": "stdout",
     "output_type": "stream",
     "text": [
      "Removing Pat Smear from the Collection\n"
     ]
    }
   ],
   "source": [
    "\n",
    "while(itr.hasNext()) {\n",
    "      String i = itr.next();\n",
    "     \n",
    "    //System.out.println( \"Items in the Collection is \" + i );\n",
    "      if( i.equals(\"Pat Smear\") )  {\n",
    "           System.out.println( \"Removing \" + i + \" from the Collection\");\n",
    "          \n",
    "           itr.remove();\n",
    "      }\n",
    "\n",
    "}"
   ]
  },
  {
   "cell_type": "code",
   "execution_count": 51,
   "id": "4a734626",
   "metadata": {},
   "outputs": [
    {
     "name": "stdout",
     "output_type": "stream",
     "text": [
      "3\n"
     ]
    }
   ],
   "source": [
    "System.out.println(bandMembers.size() ) ;"
   ]
  },
  {
   "cell_type": "code",
   "execution_count": 53,
   "id": "51178058",
   "metadata": {},
   "outputs": [],
   "source": [
    "Iterator<String> itr = bandMembers.iterator(); "
   ]
  },
  {
   "cell_type": "markdown",
   "id": "45a05158",
   "metadata": {},
   "source": [
    "####  Using the iterator to print out the band members"
   ]
  },
  {
   "cell_type": "code",
   "execution_count": 54,
   "id": "20d54030",
   "metadata": {},
   "outputs": [
    {
     "name": "stdout",
     "output_type": "stream",
     "text": [
      "Kurt Cobain\n",
      "Dave Grohl\n",
      "Krist Novoselic\n"
     ]
    }
   ],
   "source": [
    "while(itr.hasNext()){  \n",
    "     System.out.println(itr.next());  \n",
    " }"
   ]
  },
  {
   "cell_type": "code",
   "execution_count": null,
   "id": "499ddbee",
   "metadata": {},
   "outputs": [],
   "source": []
  }
 ],
 "metadata": {
  "kernelspec": {
   "display_name": "Java",
   "language": "java",
   "name": "java"
  },
  "language_info": {
   "codemirror_mode": "java",
   "file_extension": ".jshell",
   "mimetype": "text/x-java-source",
   "name": "Java",
   "pygments_lexer": "java",
   "version": "12.0.2+10"
  }
 },
 "nbformat": 4,
 "nbformat_minor": 5
}
