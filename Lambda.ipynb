{
 "cells": [
  {
   "cell_type": "markdown",
   "id": "ddf273f7",
   "metadata": {},
   "source": [
    "# Lambda"
   ]
  },
  {
   "cell_type": "markdown",
   "id": "ee1fafdc",
   "metadata": {},
   "source": [
    "Lambda expressions are introduced in Java 8 and are touted to be the biggest feature of Java 8. Lambda expression facilitates functional programming, and simplifies the development a lot."
   ]
  },
  {
   "cell_type": "markdown",
   "id": "4c25a625",
   "metadata": {},
   "source": [
    "Syntax       \n",
    "A lambda expression is characterized by the following syntax.\n",
    "```\n",
    "parameter -> expression body\n",
    "```"
   ]
  },
  {
   "cell_type": "markdown",
   "id": "90e6f6e5",
   "metadata": {},
   "source": [
    "# Declaring "
   ]
  },
  {
   "cell_type": "code",
   "execution_count": 9,
   "id": "9dc03189",
   "metadata": {},
   "outputs": [],
   "source": [
    "public class MyMath {\n",
    "    \n",
    "   interface MathOperation {\n",
    "      int operation(int a, int b);\n",
    "   }\n",
    "\n",
    "\n",
    "\n",
    "   public int operate(int a, int b, MathOperation mathOperation) {\n",
    "      return mathOperation.operation(a, b);\n",
    "   }\n",
    "}"
   ]
  },
  {
   "cell_type": "code",
   "execution_count": 10,
   "id": "c3dcadd4",
   "metadata": {},
   "outputs": [],
   "source": [
    "MyMath math = new MyMath();"
   ]
  },
  {
   "cell_type": "code",
   "execution_count": 11,
   "id": "b723871b",
   "metadata": {},
   "outputs": [],
   "source": [
    "MyMath.MathOperation addition = (int a, int b) -> a + b;"
   ]
  },
  {
   "cell_type": "code",
   "execution_count": 12,
   "id": "4bcbfa17",
   "metadata": {},
   "outputs": [
    {
     "name": "stdout",
     "output_type": "stream",
     "text": [
      "10 + 5 = 15\n"
     ]
    }
   ],
   "source": [
    "System.out.println(\"10 + 5 = \" + math.operate(10, 5, addition));"
   ]
  },
  {
   "cell_type": "markdown",
   "id": "20c33a0e",
   "metadata": {},
   "source": [
    "# ForEach"
   ]
  },
  {
   "cell_type": "code",
   "execution_count": 14,
   "id": "b1a40cb1",
   "metadata": {},
   "outputs": [
    {
     "data": {
      "text/plain": [
       "true"
      ]
     },
     "execution_count": 14,
     "metadata": {},
     "output_type": "execute_result"
    }
   ],
   "source": [
    "ArrayList<Integer> numbers = new ArrayList<Integer>();\n",
    "numbers.add(5);\n",
    "numbers.add(9);\n",
    "numbers.add(8);\n",
    "numbers.add(1); "
   ]
  },
  {
   "cell_type": "code",
   "execution_count": 15,
   "id": "0edef016",
   "metadata": {},
   "outputs": [
    {
     "name": "stdout",
     "output_type": "stream",
     "text": [
      "5\n",
      "9\n",
      "8\n",
      "1\n"
     ]
    }
   ],
   "source": [
    "numbers.forEach( (n) -> { System.out.println(n); } );"
   ]
  },
  {
   "cell_type": "code",
   "execution_count": null,
   "id": "27d95b6c",
   "metadata": {},
   "outputs": [],
   "source": []
  }
 ],
 "metadata": {
  "kernelspec": {
   "display_name": "Java",
   "language": "java",
   "name": "java"
  },
  "language_info": {
   "codemirror_mode": "java",
   "file_extension": ".jshell",
   "mimetype": "text/x-java-source",
   "name": "Java",
   "pygments_lexer": "java",
   "version": "12.0.2+10"
  }
 },
 "nbformat": 4,
 "nbformat_minor": 5
}
