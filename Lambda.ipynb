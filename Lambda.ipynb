{
 "cells": [
  {
   "cell_type": "markdown",
   "id": "46074645",
   "metadata": {},
   "source": [
    "<p style=\"color:green; font-size:40px;\">Interfaces</p>"
   ]
  },
  {
   "cell_type": "markdown",
   "id": "46cb9e75",
   "metadata": {},
   "source": [
    "There are few functional interfaces namely Consumer, Supplier, Predicate and Functions"
   ]
  },
  {
   "cell_type": "markdown",
   "id": "859f05f8",
   "metadata": {},
   "source": [
    "# Function Interface"
   ]
  },
  {
   "cell_type": "markdown",
   "id": "acb7c3fb",
   "metadata": {},
   "source": [
    "The term Java functional interface was introduced in Java 8. A functional interface in Java is an interface that contains only a single abstract (unimplemented) method. A functional interface can contain default and static methods which do have an implementation, in addition to the single unimplemented method."
   ]
  },
  {
   "cell_type": "code",
   "execution_count": 7,
   "id": "896ef3a9",
   "metadata": {},
   "outputs": [],
   "source": [
    "@FunctionalInterface\n",
    "public interface MyInterface {\n",
    "     public void message();\n",
    "}"
   ]
  },
  {
   "cell_type": "code",
   "execution_count": 8,
   "id": "359c4633",
   "metadata": {},
   "outputs": [],
   "source": [
    "MyInterface myInterface = () -> System.out.print(\"Hello World\");"
   ]
  },
  {
   "cell_type": "code",
   "execution_count": 3,
   "id": "902a5e84",
   "metadata": {},
   "outputs": [
    {
     "name": "stdout",
     "output_type": "stream",
     "text": [
      "Hello World"
     ]
    }
   ],
   "source": [
    "myInterface.message();"
   ]
  },
  {
   "cell_type": "markdown",
   "id": "ceaafb45",
   "metadata": {},
   "source": [
    "## Example Function Interface (Runnable)"
   ]
  },
  {
   "cell_type": "markdown",
   "id": "d7fc985c",
   "metadata": {},
   "source": [
    "The Runnable interface is a functional interface defined in java.lang package. This interface contains a single abstract method, run() with no arguments. When an object of a class implementing this interface used to create a thread, then run() method has invoked in a thread that executes separately."
   ]
  },
  {
   "cell_type": "markdown",
   "id": "89d28f30",
   "metadata": {},
   "source": [
    "<p style=\"color:blue; font-size:20px;\">Syntax</p>"
   ]
  },
  {
   "cell_type": "markdown",
   "id": "8e38da24",
   "metadata": {},
   "source": [
    "``` Java\n",
    "@FunctionalInterface\n",
    "public interface Runnable {\n",
    " void run();\n",
    "}\n",
    "```"
   ]
  },
  {
   "cell_type": "markdown",
   "id": "3dc50802",
   "metadata": {},
   "source": [
    "In the below example, we can implement a Runnable interface by using an <b>anonymous class</b> and <b>lambda expression</b>."
   ]
  },
  {
   "cell_type": "code",
   "execution_count": 13,
   "id": "accd2627",
   "metadata": {},
   "outputs": [],
   "source": [
    "public Runnable sayHello = new Runnable() {\n",
    "    \n",
    "    @Override\n",
    "    public void run() { // anonymous class\n",
    "            System.out.println(\"Hello World! \");\n",
    "         }\n",
    "};"
   ]
  },
  {
   "cell_type": "markdown",
   "id": "f9086a44",
   "metadata": {},
   "source": [
    "Running the runnable method"
   ]
  },
  {
   "cell_type": "code",
   "execution_count": 15,
   "id": "369cdcb2",
   "metadata": {},
   "outputs": [
    {
     "name": "stdout",
     "output_type": "stream",
     "text": [
      "Hello World! \r\n"
     ]
    }
   ],
   "source": [
    "sayHello.run();"
   ]
  },
  {
   "cell_type": "markdown",
   "id": "c5b0063f",
   "metadata": {},
   "source": [
    "<p style=\"color:Green; font-size:40px;\">Reference</p>"
   ]
  },
  {
   "cell_type": "markdown",
   "id": "c5e460b8",
   "metadata": {},
   "source": [
    "* [Functional Interfaces in Java 8 - By baeldung](https://www.baeldung.com/java-8-functional-interfaces)\n",
    "* [Java Functional Interfaces - By Jenkov](https://jenkov.com/tutorials/java-functional-programming/functional-interfaces.html)"
   ]
  },
  {
   "cell_type": "code",
   "execution_count": null,
   "id": "cbca5e06",
   "metadata": {},
   "outputs": [],
   "source": []
  }
 ],
 "metadata": {
  "kernelspec": {
   "display_name": "Java",
   "language": "java",
   "name": "java"
  },
  "language_info": {
   "codemirror_mode": "java",
   "file_extension": ".jshell",
   "mimetype": "text/x-java-source",
   "name": "Java",
   "pygments_lexer": "java",
   "version": "12.0.2+10"
  }
 },
 "nbformat": 4,
 "nbformat_minor": 5
}
